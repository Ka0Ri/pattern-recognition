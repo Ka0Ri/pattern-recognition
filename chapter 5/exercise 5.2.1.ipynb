{
 "cells": [
  {
   "cell_type": "markdown",
   "metadata": {},
   "source": [
    "# Dang Thanh Vu - 197796"
   ]
  },
  {
   "cell_type": "code",
   "execution_count": 1,
   "metadata": {},
   "outputs": [],
   "source": [
    "import numpy as np\n",
    "\n",
    "def edit_distance(src, dst):\n",
    "    m = len(src)\n",
    "    n = len(dst)\n",
    "    template = np.zeros((m + 1, n + 1))\n",
    "    s = template[0, 0]\n",
    "    for i in range(1, m + 1):\n",
    "        if(src[i - 1] != dst[0]):\n",
    "            s = s + 1\n",
    "        template[i, 0] = s\n",
    "    s = template[0, 0]\n",
    "    path = []\n",
    "    for i in range(1, n + 1):\n",
    "        if(src[0] != dst[i - 1]):\n",
    "            s = s + 1\n",
    "        template[0, i] = s\n",
    "    for i in range(1, m + 1):\n",
    "        for j in range(1, n + 1):\n",
    "            if(src[i - 1] == dst[j - 1]):\n",
    "                template[i, j] = template[i - 1, j - 1]\n",
    "            else:\n",
    "                template[i, j] = np.min([template[i - 1, j - 1], template[i, j - 1], template[i - 1, j]]) + 1           \n",
    "    return template[m, n], template \n",
    "def find_path(template):\n",
    "    m, n = template.shape[:]\n",
    "    m = m - 1\n",
    "    n = n - 1\n",
    "    path = [(m, n)]\n",
    "    while(m > 0 and n > 0):\n",
    "        argmin = np.argmin([template[m - 1, n - 1], template[m, n - 1], template[m - 1, n]])\n",
    "        if(argmin == 0):\n",
    "            path.append((m - 1, n - 1))\n",
    "            m = m - 1\n",
    "            n = n - 1\n",
    "        elif(argmin == 1):\n",
    "            path.append((m, n - 1))\n",
    "            n = n - 1\n",
    "        else:\n",
    "            path.append((m - 1, n))\n",
    "            m = m - 1\n",
    "    return path"
   ]
  },
  {
   "cell_type": "code",
   "execution_count": 2,
   "metadata": {},
   "outputs": [
    {
     "name": "stdout",
     "output_type": "stream",
     "text": [
      "edit distance:  2.0\n",
      "[[0. 0. 1. 2. 3. 4. 4. 4. 5.]\n",
      " [0. 0. 1. 2. 3. 4. 4. 4. 5.]\n",
      " [1. 1. 0. 1. 2. 3. 4. 5. 4.]\n",
      " [2. 2. 1. 1. 2. 3. 4. 5. 5.]\n",
      " [3. 3. 2. 1. 2. 3. 4. 5. 6.]\n",
      " [4. 4. 3. 2. 1. 2. 3. 4. 5.]\n",
      " [5. 5. 4. 3. 2. 1. 2. 3. 4.]\n",
      " [5. 5. 5. 4. 3. 2. 1. 2. 3.]\n",
      " [6. 6. 5. 5. 4. 3. 2. 2. 2.]]\n",
      "[(8, 8), (7, 7), (7, 6), (6, 5), (5, 4), (4, 3), (3, 2), (2, 2), (1, 1), (0, 0)]\n"
     ]
    }
   ],
   "source": [
    "d, template = edit_distance(\"template\", \"teplatte\")\n",
    "print(\"edit distance: \", d)\n",
    "print(template)\n",
    "path = find_path(template)\n",
    "print(path)"
   ]
  },
  {
   "cell_type": "code",
   "execution_count": 3,
   "metadata": {},
   "outputs": [
    {
     "name": "stdout",
     "output_type": "stream",
     "text": [
      "edit distance:  2.0\n",
      "[[0. 0. 1. 2. 3. 4. 5. 6.]\n",
      " [0. 0. 1. 2. 3. 4. 5. 6.]\n",
      " [1. 1. 1. 2. 3. 4. 5. 6.]\n",
      " [2. 2. 2. 1. 2. 3. 4. 5.]\n",
      " [3. 3. 3. 2. 1. 2. 3. 4.]\n",
      " [4. 4. 4. 3. 2. 1. 2. 3.]\n",
      " [5. 5. 5. 4. 3. 2. 2. 2.]]\n",
      "[(6, 7), (5, 6), (5, 5), (4, 4), (3, 3), (2, 2), (1, 1), (0, 0)]\n"
     ]
    }
   ],
   "source": [
    "d, template = edit_distance(\"impose\", \"igposre\")\n",
    "print(\"edit distance: \", d)\n",
    "print(template)\n",
    "path = find_path(template)\n",
    "print(path)"
   ]
  },
  {
   "cell_type": "code",
   "execution_count": 4,
   "metadata": {},
   "outputs": [
    {
     "name": "stdout",
     "output_type": "stream",
     "text": [
      "edit distance:  2.0\n",
      "[[0. 0. 1. 2. 3. 4. 5. 6.]\n",
      " [0. 0. 1. 2. 3. 4. 5. 6.]\n",
      " [1. 1. 0. 1. 2. 3. 4. 5.]\n",
      " [2. 2. 1. 1. 2. 3. 4. 5.]\n",
      " [3. 3. 2. 2. 1. 2. 3. 4.]\n",
      " [4. 4. 3. 3. 2. 2. 2. 3.]\n",
      " [5. 5. 4. 4. 3. 3. 3. 2.]]\n",
      "[(6, 7), (5, 6), (4, 5), (4, 4), (3, 3), (2, 2), (1, 1), (0, 0)]\n"
     ]
    }
   ],
   "source": [
    "d, template = edit_distance(\"ignore\", \"igposre\")\n",
    "print(\"edit distance: \", d)\n",
    "print(template)\n",
    "path = find_path(template)\n",
    "print(path)"
   ]
  },
  {
   "cell_type": "code",
   "execution_count": 5,
   "metadata": {},
   "outputs": [
    {
     "name": "stdout",
     "output_type": "stream",
     "text": [
      "edit distance:  5.0\n",
      "[[0. 1. 2. 3. 4. 5. 5. 6.]\n",
      " [1. 1. 2. 3. 4. 5. 5. 6.]\n",
      " [2. 2. 2. 3. 4. 5. 6. 5.]\n",
      " [3. 3. 3. 3. 4. 4. 5. 6.]\n",
      " [4. 4. 4. 4. 4. 5. 5. 6.]\n",
      " [5. 5. 5. 5. 4. 5. 6. 6.]\n",
      " [6. 6. 6. 6. 5. 5. 5. 6.]\n",
      " [7. 7. 7. 7. 6. 6. 6. 5.]]\n",
      "[(7, 7), (6, 6), (5, 5), (4, 4), (3, 3), (2, 2), (1, 1), (0, 0)]\n"
     ]
    }
   ],
   "source": [
    "d, template = edit_distance(\"restore\", \"igposre\")\n",
    "print(\"edit distance: \", d)\n",
    "print(template)\n",
    "path = find_path(template)\n",
    "print(path)"
   ]
  },
  {
   "cell_type": "code",
   "execution_count": null,
   "metadata": {},
   "outputs": [],
   "source": []
  }
 ],
 "metadata": {
  "kernelspec": {
   "display_name": "Python 3",
   "language": "python",
   "name": "python3"
  },
  "language_info": {
   "codemirror_mode": {
    "name": "ipython",
    "version": 3
   },
   "file_extension": ".py",
   "mimetype": "text/x-python",
   "name": "python",
   "nbconvert_exporter": "python",
   "pygments_lexer": "ipython3",
   "version": "3.7.2"
  }
 },
 "nbformat": 4,
 "nbformat_minor": 2
}
