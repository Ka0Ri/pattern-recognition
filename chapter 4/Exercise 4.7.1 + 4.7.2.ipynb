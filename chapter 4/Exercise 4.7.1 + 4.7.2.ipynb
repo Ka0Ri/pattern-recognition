{
 "cells": [
  {
   "cell_type": "markdown",
   "metadata": {},
   "source": [
    "# Dang Thanh Vu - 197796"
   ]
  },
  {
   "cell_type": "code",
   "execution_count": 1,
   "metadata": {},
   "outputs": [],
   "source": [
    "import numpy as np\n",
    "from scipy.stats import multivariate_normal\n",
    "import matplotlib.pyplot as plt\n",
    "from scipy import stats\n",
    "from sklearn.metrics import roc_curve, auc\n",
    "\n",
    "def random_MixtureGaussian(N, P, m, S, cl):\n",
    "    d = m.shape[1]\n",
    "    c = m.shape[0]\n",
    "    z = np.random.choice(np.arange(0,c), N, p=P)\n",
    "    X = np.ones([1,d])\n",
    "    for i in range(0,c):\n",
    "        n = np.sum(z == np.array([i]*N))\n",
    "        x = np.random.multivariate_normal(m[i], S[i], n)\n",
    "        X = np.concatenate([X, x])\n",
    "    X = X[1:]\n",
    "    Y = cl*np.array(N*[1])\n",
    "    return X, Y\n",
    "\n",
    "def divergence(X1, X2):\n",
    "    m, n = X1.shape[:]\n",
    "    m1 = np.mean(X1, axis=0)\n",
    "    m2 = np.mean(X2, axis=0)\n",
    "    S1 = np.cov(X1.T)\n",
    "    S2 = np.cov(X2.T)\n",
    "    d = np.trace((np.linalg.inv(S1) @ S2) + (np.linalg.inv(S2) @ S1) - 2*np.identity(n))\n",
    "    d = d + (np.array([m1-m2]) @ (np.linalg.inv(S1) + np.linalg.inv(S2)) @ np.array([m1-m2]).T)\n",
    "    return d/(2*n)\n",
    "\n",
    "def Bhattacharyya(X1, X2):\n",
    "    m, n = X1.shape[:]\n",
    "    m1 = np.mean(X1, axis=0)\n",
    "    m2 = np.mean(X2, axis=0)\n",
    "    S1 = np.cov(X1.T)\n",
    "    S2 = np.cov(X2.T)\n",
    "    A = np.log(np.linalg.det((S1 + S2)/2)/(np.sqrt(np.linalg.det(S1)*np.linalg.det(S2))))\n",
    "    B = np.array([m1-m2]) @ np.linalg.inv((S1 + S2)/2) @ np.array([m1-m2]).T\n",
    "    return (B/8 + A/2)/n\n",
    "\n",
    "def ChernoffBound(X1, X2, P):\n",
    "    Bh = Bhattacharyya(X1, X2)\n",
    "    e = np.exp(-Bh)*np.sqrt(P[0]*P[1])\n",
    "    return e"
   ]
  },
  {
   "cell_type": "raw",
   "metadata": {},
   "source": [
    "m1 = [3,3], m2 = [2.3, 2.3], S1 = S2 = 0.2*I"
   ]
  },
  {
   "cell_type": "code",
   "execution_count": 2,
   "metadata": {},
   "outputs": [
    {
     "data": {
      "image/png": "[encoded data removed]",
      "text/plain": [
       "<Figure size 432x288 with 1 Axes>"
      ]
     },
     "metadata": {
      "needs_background": "light"
     },
     "output_type": "display_data"
    }
   ],
   "source": [
    "m1 = np.array([[3,3]])\n",
    "S1 = np.array([0.2*np.identity(2)])\n",
    "m2 = np.array([[2.3,2.3]])\n",
    "S2 = np.array([0.2*np.identity(2)])\n",
    "N = 100\n",
    "P = np.array([1])\n",
    "X1, Y1 = random_MixtureGaussian(N, P, m1, S1, 0)\n",
    "X2, Y2 = random_MixtureGaussian(N, P, m2, S2, 1)\n",
    "plt.plot(X1[:,0], X1[:,1], 'r+')\n",
    "plt.plot(X2[:,0], X2[:,1], 'bo')\n",
    "plt.show()"
   ]
  },
  {
   "cell_type": "code",
   "execution_count": 3,
   "metadata": {
    "scrolled": true
   },
   "outputs": [
    {
     "name": "stdout",
     "output_type": "stream",
     "text": [
      "divergence =  [[2.45415391]]\n",
      "Bhattacharyya =  [[0.3056327]]\n",
      "ChernoffBound =  [[0.36832857]]\n"
     ]
    }
   ],
   "source": [
    "d = divergence(X1, X2)\n",
    "print(\"divergence = \", d)\n",
    "B = Bhattacharyya(X1, X2)\n",
    "print(\"Bhattacharyya = \", B)\n",
    "e = ChernoffBound(X1, X2, np.array([0.5, 0.5]))\n",
    "print(\"ChernoffBound = \", e)"
   ]
  },
  {
   "cell_type": "raw",
   "metadata": {},
   "source": [
    "m1 = [1,1], m2 = [4, 4], S1 = S2 = 0.2*I"
   ]
  },
  {
   "cell_type": "code",
   "execution_count": 4,
   "metadata": {},
   "outputs": [
    {
     "data": {
      "image/png": "[encoded data removed]",
      "text/plain": [
       "<Figure size 432x288 with 1 Axes>"
      ]
     },
     "metadata": {
      "needs_background": "light"
     },
     "output_type": "display_data"
    }
   ],
   "source": [
    "m1 = np.array([[1,1]])\n",
    "S1 = np.array([0.2*np.identity(2)])\n",
    "m2 = np.array([[4,4]])\n",
    "S2 = np.array([0.2*np.identity(2)])\n",
    "N = 100\n",
    "P = np.array([1])\n",
    "X1, Y1 = random_MixtureGaussian(N, P, m1, S1, 0)\n",
    "X2, Y2 = random_MixtureGaussian(N, P, m2, S2, 1)\n",
    "plt.plot(X1[:,0], X1[:,1], 'r+')\n",
    "plt.plot(X2[:,0], X2[:,1], 'bo')\n",
    "plt.show()"
   ]
  },
  {
   "cell_type": "code",
   "execution_count": 5,
   "metadata": {},
   "outputs": [
    {
     "name": "stdout",
     "output_type": "stream",
     "text": [
      "divergence =  [[46.78668546]]\n",
      "Bhattacharyya =  [[5.81476749]]\n",
      "ChernoffBound =  [[0.00149159]]\n"
     ]
    }
   ],
   "source": [
    "d = divergence(X1, X2)\n",
    "print(\"divergence = \", d)\n",
    "B = Bhattacharyya(X1, X2)\n",
    "print(\"Bhattacharyya = \", B)\n",
    "e = ChernoffBound(X1, X2, np.array([0.5, 0.5]))\n",
    "print(\"ChernoffBound = \", e)"
   ]
  },
  {
   "cell_type": "raw",
   "metadata": {},
   "source": [
    "m1 = [1,1], m2 = [4, 4], S1 = 0.2*I, S2 = 1.9*I"
   ]
  },
  {
   "cell_type": "code",
   "execution_count": 6,
   "metadata": {},
   "outputs": [
    {
     "data": {
      "image/png": "[encoded data removed]",
      "text/plain": [
       "<Figure size 432x288 with 1 Axes>"
      ]
     },
     "metadata": {
      "needs_background": "light"
     },
     "output_type": "display_data"
    }
   ],
   "source": [
    "m1 = np.array([[1,1]])\n",
    "S1 = np.array([0.2*np.identity(2)])\n",
    "m2 = np.array([[4,4]])\n",
    "S2 = np.array([1.9*np.identity(2)])\n",
    "N = 100\n",
    "P = np.array([1])\n",
    "X1, Y1 = random_MixtureGaussian(N, P, m1, S1, 0)\n",
    "X2, Y2 = random_MixtureGaussian(N, P, m2, S2, 1)\n",
    "plt.plot(X1[:,0], X1[:,1], 'r+')\n",
    "plt.plot(X2[:,0], X2[:,1], 'bo')\n",
    "plt.show()"
   ]
  },
  {
   "cell_type": "code",
   "execution_count": 7,
   "metadata": {},
   "outputs": [
    {
     "name": "stdout",
     "output_type": "stream",
     "text": [
      "divergence =  [[37.34044108]]\n",
      "Bhattacharyya =  [[1.69966155]]\n",
      "ChernoffBound =  [[0.09137268]]\n"
     ]
    }
   ],
   "source": [
    "d = divergence(X1, X2)\n",
    "print(\"divergence = \", d)\n",
    "B = Bhattacharyya(X1, X2)\n",
    "print(\"Bhattacharyya = \", B)\n",
    "e = ChernoffBound(X1, X2, np.array([0.5, 0.5]))\n",
    "print(\"ChernoffBound = \", e)"
   ]
  }
 ],
 "metadata": {
  "kernelspec": {
   "display_name": "Python 3",
   "language": "python",
   "name": "python3"
  },
  "language_info": {
   "codemirror_mode": {
    "name": "ipython",
    "version": 3
   },
   "file_extension": ".py",
   "mimetype": "text/x-python",
   "name": "python",
   "nbconvert_exporter": "python",
   "pygments_lexer": "ipython3",
   "version": "3.7.2"
  }
 },
 "nbformat": 4,
 "nbformat_minor": 2
}
