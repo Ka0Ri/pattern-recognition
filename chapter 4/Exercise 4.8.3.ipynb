{
 "cells": [
  {
   "cell_type": "markdown",
   "metadata": {},
   "source": [
    "# Dang Thanh Vu - 197796"
   ]
  },
  {
   "cell_type": "code",
   "execution_count": 1,
   "metadata": {},
   "outputs": [],
   "source": [
    "import numpy as np\n",
    "import itertools\n",
    "\n",
    "X1 = np.loadtxt('testClass1.dat')\n",
    "X2 = np.loadtxt('testClass2.dat')\n",
    "\n",
    "def fisher(X1, X2):\n",
    "    m1 = np.mean(X1)\n",
    "    m2 = np.mean(X2)\n",
    "    var1 = np.var(x1)\n",
    "    var2 = np.var(x2)\n",
    "    return ((m1 - m2)**2)/(var1+var2)\n",
    "\n",
    "def scatter(X1, X2, P):\n",
    "    X = np.concatenate([X1, X2])\n",
    "    mf0 = np.mean(X, axis=0)\n",
    "    mf1 = np.mean(X1, axis=0)\n",
    "    mf2 = np.mean(X2, axis=0)\n",
    "    Sw = P[0]*np.cov(X1.T) + P[1]*np.cov(X2.T)\n",
    "    Sb = P[0]*(np.array([mf1 - mf0]).T @ np.array([mf1 - mf0])) + P[1]*(np.array([mf2 - mf0]).T @ np.array([mf2 - mf0]))\n",
    "    if(X.shape[1] == 1):\n",
    "        Sw = np.array([[Sw]])\n",
    "    J3 = np.trace(np.linalg.inv(Sw) @ (Sb + Sw))/X1.shape[1]\n",
    "    return J3\n",
    "\n",
    "def divergence(X1, X2):\n",
    "    m, n = X1.shape[:]\n",
    "    m1 = np.mean(X1, axis=0)\n",
    "    m2 = np.mean(X2, axis=0)\n",
    "    S1 = np.cov(X1.T)\n",
    "    S2 = np.cov(X2.T)\n",
    "    d = np.trace((np.linalg.inv(S1) @ S2) + (np.linalg.inv(S2) @ S1) - 2*np.identity(n))\n",
    "    d = d + (np.array([m1-m2]) @ (np.linalg.inv(S1) + np.linalg.inv(S2)) @ np.array([m1-m2]).T)\n",
    "    return d/(2*n)\n",
    "\n",
    "def Bhattacharyya(X1, X2):\n",
    "    m, n = X1.shape[:]\n",
    "    m1 = np.mean(X1, axis=0)\n",
    "    m2 = np.mean(X2, axis=0)\n",
    "    S1 = np.cov(X1.T)\n",
    "    S2 = np.cov(X2.T)\n",
    "    A = np.log(np.linalg.det((S1 + S2)/2)/(np.sqrt(np.linalg.det(S1)*np.linalg.det(S2))))\n",
    "    B = np.array([m1-m2]) @ np.linalg.inv((S1 + S2)/2) @ np.array([m1-m2]).T\n",
    "    return (B/8 + A/2)/n\n",
    "\n",
    "def ChernoffBound(X1, X2, P):\n",
    "    Bh = Bhattacharyya(X1, X2)\n",
    "    e = np.exp(-Bh)*np.sqrt(P[0]*P[1])\n",
    "    return e\n",
    "\n",
    "def Scalar_ranking(X1, X2, a1, a2):\n",
    "    m, n = X1.shape[:]\n",
    "    m1 = np.mean(X1, axis=0)\n",
    "    m2 = np.mean(X2, axis=0)\n",
    "    var1 = np.var(X1, axis=0)\n",
    "    var2 = np.var(X2, axis=0)\n",
    "    #fisher\n",
    "    fisher = ((m1 - m2)**2)/(var1+var2)\n",
    "    sort_fisher = np.sort(fisher)[::-1]\n",
    "    first_rank = np.argsort(fisher)[::-1]\n",
    "    rank_index = []\n",
    "    rank_index.append(first_rank[0])\n",
    "    X = np.concatenate([X1, X2])\n",
    "    cov = np.cov(X.T)\n",
    "    cov[rank_index[0]] = 0\n",
    "    fisher[rank_index[0]] = -1000\n",
    "    for i in range(1, n):\n",
    "        rho = np.sum(cov[:,rank_index], axis=1)\n",
    "        f = a1*fisher - a2/i*np.absolute(rho)\n",
    "        index = np.argmax(f)\n",
    "        cov[index] = 0\n",
    "        fisher[index] = -1000\n",
    "        rank_index.append(index)\n",
    "        \n",
    "    return rank_index\n",
    "\n",
    "def exhautiveSearch(X1, X2, n_features, rank, l):\n",
    "    m, n = X1.shape[:]\n",
    "    coms = list(itertools.combinations(rank[:l], n_features))\n",
    "    J3_measures = []\n",
    "    for com in coms:\n",
    "        Xf1 = X1[:, com]\n",
    "        Xf2 = X2[:, com]\n",
    "        J3_measures.append(scatter(Xf1, Xf2, np.array([0.5, 0.5])))\n",
    "    id_max = np.argmax(np.array(J3_measures))\n",
    "    return coms[id_max]\n",
    "\n",
    "def backwardSearch(X1, X2, n_features, rank, l):\n",
    "    m, n = X1.shape[:]\n",
    "    i = l\n",
    "    com = rank[:l]\n",
    "    while(i > n_features):\n",
    "        com = exhautiveSearch(X1, X2, i - 1, com, i)\n",
    "        i = i - 1\n",
    "        print(com)\n",
    "    return com\n",
    "\n",
    "def forwardSearch(X1, X2, n_features, rank, l):\n",
    "    m, n = X1.shape[:]\n",
    "    i = 1\n",
    "    com = [rank[0]]\n",
    "    while(len(com) < n_features):\n",
    "        J3 = 0\n",
    "        for k in rank[:l]:\n",
    "            if k not in com:\n",
    "                temp = com[:]\n",
    "                temp.append(k)\n",
    "                Xf1 = X1[:, temp]\n",
    "                Xf2 = X2[:, temp]\n",
    "                J3_measures = (scatter(Xf1, Xf2, np.array([0.5, 0.5])))\n",
    "                if(J3_measures > J3):\n",
    "                    index = k\n",
    "                    J3 = J3_measures\n",
    "        com.append(index)\n",
    "        print(com)\n",
    "    return com\n",
    "\n",
    "def floatingSearch(X1, X2, n_features, rank, l):\n",
    "    m, n = X1.shape[:]\n",
    "    i = 1\n",
    "    com = [rank[0]]\n",
    "    while(len(com) <= n_features):\n",
    "        #add\n",
    "        J3 = 0\n",
    "        for k in rank[:l]:\n",
    "            if k not in com:\n",
    "                temp = com[:]\n",
    "                temp.append(k)\n",
    "                Xf1 = X1[:, temp]\n",
    "                Xf2 = X2[:, temp]\n",
    "                J3_measures = (scatter(Xf1, Xf2, np.array([0.5, 0.5])))\n",
    "                if(J3_measures > J3):\n",
    "                    pos = k\n",
    "                    index = k\n",
    "                    J3 = J3_measures\n",
    "        com.append(index)\n",
    "        #remove\n",
    "        for h in com:\n",
    "            temp = com[:]\n",
    "            temp.remove(h)\n",
    "            Xf1 = X1[:, temp]\n",
    "            Xf2 = X2[:, temp]\n",
    "            J3_measures = (scatter(Xf1, Xf2, np.array([0.5, 0.5])))\n",
    "            if(J3_measures > J3):\n",
    "                index = h\n",
    "                J3 = J3_measures\n",
    "        if(index != pos):\n",
    "            com.remove(index)\n",
    "        print(com)\n",
    "    return com[:n_features]"
   ]
  },
  {
   "cell_type": "code",
   "execution_count": 2,
   "metadata": {},
   "outputs": [
    {
     "name": "stdout",
     "output_type": "stream",
     "text": [
      "[4, 7, 5, 6, 1, 0, 16, 8, 10, 19, 18, 17, 2, 3, 11, 12, 15, 9, 14, 13]\n"
     ]
    }
   ],
   "source": [
    "X = np.concatenate([X1, X2])\n",
    "m0 = np.mean(X, axis=0)\n",
    "var = np.var(X, axis=0)\n",
    "Xn = (X - m0)/(np.sqrt(var))\n",
    "Xf1 = Xn[:25]\n",
    "Xf2 = Xn[25:]\n",
    "\n",
    "rank = Scalar_ranking(Xf1, Xf2, 0.2, 0.8)\n",
    "print(rank)"
   ]
  },
  {
   "cell_type": "raw",
   "metadata": {},
   "source": [
    "no of highest rank = 14"
   ]
  },
  {
   "cell_type": "code",
   "execution_count": 3,
   "metadata": {
    "scrolled": false
   },
   "outputs": [
    {
     "name": "stdout",
     "output_type": "stream",
     "text": [
      "exhaust - best combination (5, 0)\n",
      "(7, 5, 6, 1, 0, 16, 8, 10, 19, 18, 17, 2, 3)\n",
      "(7, 5, 6, 1, 0, 8, 10, 19, 18, 17, 2, 3)\n",
      "(7, 5, 6, 1, 0, 8, 10, 19, 17, 2, 3)\n",
      "(7, 5, 6, 1, 0, 8, 19, 17, 2, 3)\n",
      "(7, 5, 1, 0, 8, 19, 17, 2, 3)\n",
      "(7, 5, 1, 0, 8, 17, 2, 3)\n",
      "(7, 5, 1, 0, 8, 2, 3)\n",
      "(5, 1, 0, 8, 2, 3)\n",
      "(1, 0, 8, 2, 3)\n",
      "(1, 0, 8, 3)\n",
      "(1, 0, 8)\n",
      "(1, 8)\n",
      "backward - best combination (1, 8)\n",
      "[4, 0]\n",
      "forward - best combination [4, 0]\n",
      "[4, 0]\n",
      "[0, 5]\n",
      "[0, 5, 8]\n",
      "floating - best combination [0, 5]\n"
     ]
    }
   ],
   "source": [
    "com = exhautiveSearch(Xf1, Xf2, 2, rank, 14)\n",
    "print(\"exhaust - best combination\", com)\n",
    "com = backwardSearch(Xf1, Xf2, 2, rank, 14)\n",
    "print(\"backward - best combination\", com)\n",
    "com = forwardSearch(Xf1, Xf2, 2, rank, 14)\n",
    "print(\"forward - best combination\", com)\n",
    "com = floatingSearch(Xf1, Xf2, 2, rank, 14)\n",
    "print(\"floating - best combination\", com)"
   ]
  },
  {
   "cell_type": "raw",
   "metadata": {},
   "source": [
    "no of highest rank = 4"
   ]
  },
  {
   "cell_type": "code",
   "execution_count": 4,
   "metadata": {},
   "outputs": [
    {
     "name": "stdout",
     "output_type": "stream",
     "text": [
      "exhaust - best combination (4, 5)\n",
      "(4, 5, 6)\n",
      "(4, 5)\n",
      "backward - best combination (4, 5)\n",
      "[4, 5]\n",
      "forward - best combination [4, 5]\n",
      "[4, 5]\n",
      "[4, 5, 6]\n",
      "floating - best combination [4, 5]\n"
     ]
    }
   ],
   "source": [
    "com = exhautiveSearch(Xf1, Xf2, 2, rank, 4)\n",
    "print(\"exhaust - best combination\", com)\n",
    "com = backwardSearch(Xf1, Xf2, 2, rank, 4)\n",
    "print(\"backward - best combination\", com)\n",
    "com = forwardSearch(Xf1, Xf2, 2, rank, 4)\n",
    "print(\"forward - best combination\", com)\n",
    "com = floatingSearch(Xf1, Xf2, 2, rank, 4)\n",
    "print(\"floating - best combination\", com)"
   ]
  },
  {
   "cell_type": "raw",
   "metadata": {},
   "source": [
    "no of highest rank = 8"
   ]
  },
  {
   "cell_type": "code",
   "execution_count": 5,
   "metadata": {},
   "outputs": [
    {
     "name": "stdout",
     "output_type": "stream",
     "text": [
      "exhaust - best combination (5, 0)\n",
      "(4, 7, 5, 6, 1, 0, 8)\n",
      "(4, 7, 5, 1, 0, 8)\n",
      "(4, 5, 1, 0, 8)\n",
      "(5, 1, 0, 8)\n",
      "(1, 0, 8)\n",
      "(1, 8)\n",
      "backward - best combination (1, 8)\n",
      "[4, 0]\n",
      "forward - best combination [4, 0]\n",
      "[4, 0]\n",
      "[0, 5]\n",
      "[0, 5, 8]\n",
      "floating - best combination [0, 5]\n"
     ]
    }
   ],
   "source": [
    "com = exhautiveSearch(Xf1, Xf2, 2, rank, 8)\n",
    "print(\"exhaust - best combination\", com)\n",
    "com = backwardSearch(Xf1, Xf2, 2, rank, 8)\n",
    "print(\"backward - best combination\", com)\n",
    "com = forwardSearch(Xf1, Xf2, 2, rank, 8)\n",
    "print(\"forward - best combination\", com)\n",
    "com = floatingSearch(Xf1, Xf2, 2, rank, 8)\n",
    "print(\"floating - best combination\", com)"
   ]
  },
  {
   "cell_type": "raw",
   "metadata": {},
   "source": [
    "no of highest rank = 10"
   ]
  },
  {
   "cell_type": "code",
   "execution_count": 6,
   "metadata": {},
   "outputs": [
    {
     "name": "stdout",
     "output_type": "stream",
     "text": [
      "exhaust - best combination (5, 0)\n",
      "(7, 5, 6, 1, 0, 16, 8, 10, 19)\n",
      "(7, 5, 6, 1, 0, 8, 10, 19)\n",
      "(7, 5, 6, 1, 0, 8, 10)\n",
      "(7, 5, 6, 1, 0, 8)\n",
      "(7, 5, 1, 0, 8)\n",
      "(5, 1, 0, 8)\n",
      "(1, 0, 8)\n",
      "(1, 8)\n",
      "backward - best combination (1, 8)\n",
      "[4, 0]\n",
      "forward - best combination [4, 0]\n",
      "[4, 0]\n",
      "[0, 5]\n",
      "[0, 5, 8]\n",
      "floating - best combination [0, 5]\n"
     ]
    }
   ],
   "source": [
    "com = exhautiveSearch(Xf1, Xf2, 2, rank, 10)\n",
    "print(\"exhaust - best combination\", com)\n",
    "com = backwardSearch(Xf1, Xf2, 2, rank, 10)\n",
    "print(\"backward - best combination\", com)\n",
    "com = forwardSearch(Xf1, Xf2, 2, rank, 10)\n",
    "print(\"forward - best combination\", com)\n",
    "com = floatingSearch(Xf1, Xf2, 2, rank, 10)\n",
    "print(\"floating - best combination\", com)"
   ]
  },
  {
   "cell_type": "raw",
   "metadata": {},
   "source": [
    "no of highest rank = 20"
   ]
  },
  {
   "cell_type": "code",
   "execution_count": 7,
   "metadata": {},
   "outputs": [
    {
     "name": "stdout",
     "output_type": "stream",
     "text": [
      "exhaust - best combination (5, 0)\n",
      "(4, 7, 5, 6, 1, 0, 16, 8, 10, 19, 17, 2, 3, 11, 12, 15, 9, 14, 13)\n",
      "(4, 7, 5, 1, 0, 16, 8, 10, 19, 17, 2, 3, 11, 12, 15, 9, 14, 13)\n",
      "(4, 7, 5, 1, 0, 16, 8, 10, 19, 17, 2, 3, 11, 12, 15, 14, 13)\n",
      "(4, 7, 1, 0, 16, 8, 10, 19, 17, 2, 3, 11, 12, 15, 14, 13)\n",
      "(4, 7, 1, 0, 16, 8, 10, 19, 2, 3, 11, 12, 15, 14, 13)\n",
      "(4, 7, 1, 0, 8, 10, 19, 2, 3, 11, 12, 15, 14, 13)\n",
      "(4, 7, 1, 0, 8, 10, 19, 2, 3, 11, 12, 15, 13)\n",
      "(4, 7, 1, 0, 8, 10, 19, 2, 3, 11, 15, 13)\n",
      "(4, 7, 1, 0, 8, 10, 2, 3, 11, 15, 13)\n",
      "(4, 1, 0, 8, 10, 2, 3, 11, 15, 13)\n",
      "(4, 1, 0, 8, 10, 2, 3, 15, 13)\n",
      "(4, 1, 0, 8, 2, 3, 15, 13)\n",
      "(1, 0, 8, 2, 3, 15, 13)\n",
      "(1, 0, 8, 2, 3, 15)\n",
      "(1, 0, 8, 2, 3)\n",
      "(1, 0, 8, 3)\n",
      "(1, 0, 8)\n",
      "(1, 8)\n",
      "backward - best combination (1, 8)\n",
      "[4, 0]\n",
      "forward - best combination [4, 0]\n",
      "[4, 0]\n",
      "[0, 5]\n",
      "[0, 5, 8]\n",
      "floating - best combination [0, 5]\n"
     ]
    }
   ],
   "source": [
    "com = exhautiveSearch(Xf1, Xf2, 2, rank, 20)\n",
    "print(\"exhaust - best combination\", com)\n",
    "com = backwardSearch(Xf1, Xf2, 2, rank, 20)\n",
    "print(\"backward - best combination\", com)\n",
    "com = forwardSearch(Xf1, Xf2, 2, rank, 20)\n",
    "print(\"forward - best combination\", com)\n",
    "com = floatingSearch(Xf1, Xf2, 2, rank, 20)\n",
    "print(\"floating - best combination\", com)"
   ]
  },
  {
   "cell_type": "raw",
   "metadata": {},
   "source": [
    "Result comparison"
   ]
  },
  {
   "cell_type": "markdown",
   "metadata": {},
   "source": [
    "|n       | 4    |8    |10    |14    |20    |\n",
    "|--------|------|-----|------|------|------|\n",
    "|exhaust |(4,5) |(5,0)|(5,0) |(5,0) |(5,0) |\n",
    "|forward |(4,5) |(4,0)|(4,0) |(4,0) |(4,0) |\n",
    "|backward|(4,5) |(1,8)|(1,8) |(1,8) |(1,8) |\n",
    "|floating|(4,5) |(0,5)|(0,5) |(0,5) |(0,5) |"
   ]
  },
  {
   "cell_type": "code",
   "execution_count": null,
   "metadata": {},
   "outputs": [],
   "source": []
  }
 ],
 "metadata": {
  "kernelspec": {
   "display_name": "Python 3",
   "language": "python",
   "name": "python3"
  },
  "language_info": {
   "codemirror_mode": {
    "name": "ipython",
    "version": 3
   },
   "file_extension": ".py",
   "mimetype": "text/x-python",
   "name": "python",
   "nbconvert_exporter": "python",
   "pygments_lexer": "ipython3",
   "version": "3.7.2"
  }
 },
 "nbformat": 4,
 "nbformat_minor": 2
}
