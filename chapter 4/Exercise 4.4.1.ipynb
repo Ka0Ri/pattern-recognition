{
 "cells": [
  {
   "cell_type": "markdown",
   "metadata": {},
   "source": [
    "# Dang Thanh Vu - 197796"
   ]
  },
  {
   "cell_type": "code",
   "execution_count": 1,
   "metadata": {},
   "outputs": [],
   "source": [
    "import numpy as np\n",
    "from scipy.stats import multivariate_normal\n",
    "import matplotlib.pyplot as plt\n",
    "from scipy import stats\n",
    "\n",
    "def random_MixtureGaussian(N, P, m, S, cl):\n",
    "    d = m.shape[1]\n",
    "    c = m.shape[0]\n",
    "    z = np.random.choice(np.arange(0,c), N, p=P)\n",
    "    X = np.ones([1,d])\n",
    "    for i in range(0,c):\n",
    "        n = np.sum(z == np.array([i]*N))\n",
    "        x = np.random.multivariate_normal(m[i], S[i], n)\n",
    "        X = np.concatenate([X, x])\n",
    "    X = X[1:]\n",
    "    Y = cl*np.array(N*[1])\n",
    "    return X, Y\n",
    "\n",
    "def t_test(S1, S2, p_value):\n",
    "    n1 = S1.shape[0]\n",
    "    n2 = S2.shape[0]\n",
    "    m1 = np.mean(S1)\n",
    "    m2 = np.mean(S2)\n",
    "    var1 = n1*np.var(S1)/(n1-1)\n",
    "    var2 = n2*np.var(S2)/(n2-1)\n",
    "    t_value = (m1 - m2)/(np.sqrt(var1/n1 + var2/n2))\n",
    "    df = n1 + n2 - 2\n",
    "    p = 1 - stats.t.cdf(t_value, df=df)\n",
    "    return 2*p, 2*p < p_value"
   ]
  },
  {
   "cell_type": "raw",
   "metadata": {},
   "source": [
    "S = 1, p_value = 0.05"
   ]
  },
  {
   "cell_type": "code",
   "execution_count": 2,
   "metadata": {},
   "outputs": [
    {
     "data": {
      "image/png": "[encoded data removed]",
      "text/plain": [
       "<Figure size 432x288 with 1 Axes>"
      ]
     },
     "metadata": {
      "needs_background": "light"
     },
     "output_type": "display_data"
    }
   ],
   "source": [
    "m1 = np.array([[9]])\n",
    "m2 = np.array([[8.75]])\n",
    "S = np.array([[[1]]])\n",
    "N = 1000\n",
    "P = np.array([1])\n",
    "S1, Y1 = random_MixtureGaussian(N, P, m1, S, 0)\n",
    "S2, Y2 = random_MixtureGaussian(N, P, m2, S, 1)\n",
    "plt.hist(S1[:, 0], bins=100)\n",
    "plt.hist(S2[:, 0], bins=100)\n",
    "plt.show()"
   ]
  },
  {
   "cell_type": "code",
   "execution_count": 3,
   "metadata": {},
   "outputs": [
    {
     "name": "stdout",
     "output_type": "stream",
     "text": [
      "Reject H_0:  True  because p =  2.3444677532680203e-08\n"
     ]
    }
   ],
   "source": [
    "p, test = t_test(S1[:, 0], S2[:, 0], 0.05)\n",
    "print(\"Reject H_0: \", test, \" because p = \", p)\n",
    "t2, p2 = stats.ttest_ind(S1[:, 0], S2[:, 0])"
   ]
  },
  {
   "cell_type": "raw",
   "metadata": {},
   "source": [
    "S = 1, p_value = 0.05"
   ]
  },
  {
   "cell_type": "code",
   "execution_count": 4,
   "metadata": {},
   "outputs": [
    {
     "data": {
      "image/png": "[encoded data removed]",
      "text/plain": [
       "<Figure size 432x288 with 1 Axes>"
      ]
     },
     "metadata": {
      "needs_background": "light"
     },
     "output_type": "display_data"
    }
   ],
   "source": [
    "m1 = np.array([[9]])\n",
    "m2 = np.array([[8.75]])\n",
    "S = np.array([[[16]]])\n",
    "N = 1000\n",
    "P = np.array([1])\n",
    "S1, Y1 = random_MixtureGaussian(N, P, m1, S, 0)\n",
    "S2, Y2 = random_MixtureGaussian(N, P, m2, S, 1)\n",
    "plt.hist(S1[:, 0], bins=100)\n",
    "plt.hist(S2[:, 0], bins=100)\n",
    "plt.show()"
   ]
  },
  {
   "cell_type": "code",
   "execution_count": 5,
   "metadata": {},
   "outputs": [
    {
     "name": "stdout",
     "output_type": "stream",
     "text": [
      "Reject H_0:  False  because p =  0.2776484655192375\n"
     ]
    }
   ],
   "source": [
    "p, test = t_test(S1[:, 0], S2[:, 0], 0.05)\n",
    "print(\"Reject H_0: \", test, \" because p = \", p)"
   ]
  },
  {
   "cell_type": "code",
   "execution_count": 6,
   "metadata": {},
   "outputs": [],
   "source": [
    "t2, p2 = stats.ttest_ind(S1[:, 0], S2[:, 0])"
   ]
  }
 ],
 "metadata": {
  "kernelspec": {
   "display_name": "Python 3",
   "language": "python",
   "name": "python3"
  },
  "language_info": {
   "codemirror_mode": {
    "name": "ipython",
    "version": 3
   },
   "file_extension": ".py",
   "mimetype": "text/x-python",
   "name": "python",
   "nbconvert_exporter": "python",
   "pygments_lexer": "ipython3",
   "version": "3.7.2"
  }
 },
 "nbformat": 4,
 "nbformat_minor": 2
}
